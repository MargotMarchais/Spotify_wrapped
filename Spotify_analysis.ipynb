{
 "cells": [
  {
   "cell_type": "markdown",
   "id": "170fe385-bd92-410d-9304-12107474d376",
   "metadata": {},
   "source": [
    "# Spotify data analysis: A retrospective\n",
    "\n",
    "Every December since 2016, Spotify users discover their \"Spotify Wrapped\". The latter provides a compilation of data about their activity on the platform over the past year: top artists, top songs, top genres, etc. They get a deep dive into their most memorable listening moments of the year.\n",
    "\n",
    "Objectives:\n",
    "* JSON : Import several JSON files in an elegant way in Python\n",
    "* SQL : \n",
    "  * Write SQL queries in Python\n",
    "  * Demonstrate my abilities to code in SQL -> WINDOW FUNCTIONS, JOINS, etc\n",
    "* PYTHON : Make a summary visual report in Python (hvplot)"
   ]
  },
  {
   "cell_type": "code",
   "execution_count": 1,
   "id": "c9f9f7c2-56c8-4370-802c-4d0f90673320",
   "metadata": {},
   "outputs": [],
   "source": [
    "# Import all relevant Python packages\n",
    "import glob\n",
    "import os\n",
    "import pandas as pd\n",
    "import json\n",
    "import string\n",
    "import sqlite3"
   ]
  },
  {
   "cell_type": "markdown",
   "id": "6d5d3739-c37f-4ce8-a591-d278f0b310d3",
   "metadata": {},
   "source": [
    "## 1. Import and prepare the Spotify data (JSON files)"
   ]
  },
  {
   "cell_type": "markdown",
   "id": "786e100a-e7a4-4709-abda-207cae6bda0a",
   "metadata": {},
   "source": [
    "*Objective* : I received my Spotify data in different batches (8 JSON files). My goal is to import all of them at once in a Pandas dataframe, and remove every private information (IP address, device information, etc).  \n",
    "*Inspiration for the code below* : https://stackoverflow.com/questions/41857659/python-pandas-add-filename-column-csv"
   ]
  },
  {
   "cell_type": "markdown",
   "id": "05446b98-ab50-4291-8086-b9f46d257692",
   "metadata": {},
   "source": [
    "### 1.1. Importing the data"
   ]
  },
  {
   "cell_type": "code",
   "execution_count": 2,
   "id": "f13aed37-ce50-4f63-867f-aa828de2cf0e",
   "metadata": {},
   "outputs": [
    {
     "data": {
      "text/plain": [
       "['C:/Users/margo/Documents/Documents/Formation/Github/Spotify/MyData\\\\endsong_0.json',\n",
       " 'C:/Users/margo/Documents/Documents/Formation/Github/Spotify/MyData\\\\endsong_1.json',\n",
       " 'C:/Users/margo/Documents/Documents/Formation/Github/Spotify/MyData\\\\endsong_2.json',\n",
       " 'C:/Users/margo/Documents/Documents/Formation/Github/Spotify/MyData\\\\endsong_3.json',\n",
       " 'C:/Users/margo/Documents/Documents/Formation/Github/Spotify/MyData\\\\endsong_4.json',\n",
       " 'C:/Users/margo/Documents/Documents/Formation/Github/Spotify/MyData\\\\endsong_5.json',\n",
       " 'C:/Users/margo/Documents/Documents/Formation/Github/Spotify/MyData\\\\endsong_6.json',\n",
       " 'C:/Users/margo/Documents/Documents/Formation/Github/Spotify/MyData\\\\endvideo.json']"
      ]
     },
     "execution_count": 2,
     "metadata": {},
     "output_type": "execute_result"
    }
   ],
   "source": [
    "# Step 1 : I look for all JSON files available in my Windows folder (where I stored my Spotify data)\n",
    "\n",
    "path_to_json = 'C:/Users/margo/Documents/Documents/Formation/Github/Spotify/MyData/' #local path to my JSON files folder \n",
    "json_pattern = os.path.join(path_to_json,'*.json') #looking for every JSON file\n",
    "globbed_files = glob.glob(json_pattern) #listing all the JSON files paths\n",
    "globbed_files #overview"
   ]
  },
  {
   "cell_type": "markdown",
   "id": "516695d4-49b6-4fce-a62e-9ca74d77bff5",
   "metadata": {},
   "source": [
    "Comment: My Windows folder contains 8 different JSON files. \n",
    "* 7 start with the name \"endsong\"\n",
    "* 1 is focused on videos (endvideo)"
   ]
  },
  {
   "cell_type": "code",
   "execution_count": 3,
   "id": "c6a4f033-f46a-49ec-9eba-ba8db3d944f0",
   "metadata": {},
   "outputs": [],
   "source": [
    "# Step 2: I open and read every JSON file thanks to a for loop. \n",
    "   # I also add a column \"filename\" that contains the name of each file\n",
    "   # Finally, I store all data in a \"data\" list\n",
    "\n",
    "data = [] # empty list (initialization) \n",
    "for json in globbed_files:\n",
    "    frame = pd.read_json(json) \n",
    "    frame['filename'] = os.path.basename(json) \n",
    "    data.append(frame) "
   ]
  },
  {
   "cell_type": "code",
   "execution_count": 4,
   "id": "5ad7d18d-97b3-4350-8484-0af28b20d731",
   "metadata": {},
   "outputs": [
    {
     "name": "stderr",
     "output_type": "stream",
     "text": [
      "C:\\Users\\margo\\AppData\\Local\\Temp\\ipykernel_22292\\1933132580.py:2: FutureWarning: Behavior when concatenating bool-dtype and numeric-dtype arrays is deprecated; in a future version these will cast to object dtype (instead of coercing bools to numeric values). To retain the old behavior, explicitly cast bool-dtype arrays to numeric dtype.\n",
      "  bigframe = pd.concat(data, ignore_index=True) #dont want pandas to try an align row indexes\n"
     ]
    }
   ],
   "source": [
    "# Step 3: Export the data to csv format\n",
    "bigframe = pd.concat(data, ignore_index=True) #dont want pandas to try an align row indexes\n",
    "bigframe.to_csv(\"spotify_data.csv\", sep = ';')"
   ]
  },
  {
   "cell_type": "markdown",
   "id": "fd1680ff-9966-49c6-b71f-d36604108ec4",
   "metadata": {},
   "source": [
    "### 1.2. Preparing the data"
   ]
  },
  {
   "cell_type": "code",
   "execution_count": 5,
   "id": "1253c144-a7b5-4f2c-968d-647ca8906786",
   "metadata": {},
   "outputs": [],
   "source": [
    "# Step 4 : Remove private information (username, user agent, device, IP address) \n",
    "spotify_data = pd.read_csv(\"spotify_data.csv\", sep = ';', index_col = 0)\n",
    "\n",
    "# Blur device information\n",
    "spotify_data[\"device\"] = spotify_data[\"platform\"].str[:10]\n",
    "\n",
    "# Delete columns that share too much information\n",
    "to_delete = ['username', 'ip_addr_decrypted', 'user_agent_decrypted', 'platform']\n",
    "spotify_data.drop(to_delete, axis=1, inplace=True)"
   ]
  },
  {
   "cell_type": "code",
   "execution_count": 6,
   "id": "39fa534d-b18c-4f7c-9e94-5020566b38db",
   "metadata": {},
   "outputs": [],
   "source": [
    "# Step 5 : Add time variables that will be useful for data analysis\n",
    "spotify_data['year'] = pd.to_datetime(spotify_data['ts']).dt.strftime('%Y')\n",
    "spotify_data['year_month'] = pd.to_datetime(spotify_data['ts']).dt.strftime('%Y-%m')\n",
    "spotify_data[\"date\"] = pd.to_datetime(spotify_data[\"ts\"]).dt.strftime('%Y-%m-%d')"
   ]
  },
  {
   "cell_type": "code",
   "execution_count": 8,
   "id": "c0be17ed-600a-40e4-8f67-89f4f46a9e9e",
   "metadata": {},
   "outputs": [
    {
     "data": {
      "text/html": [
       "<div>\n",
       "<style scoped>\n",
       "    .dataframe tbody tr th:only-of-type {\n",
       "        vertical-align: middle;\n",
       "    }\n",
       "\n",
       "    .dataframe tbody tr th {\n",
       "        vertical-align: top;\n",
       "    }\n",
       "\n",
       "    .dataframe thead th {\n",
       "        text-align: right;\n",
       "    }\n",
       "</style>\n",
       "<table border=\"1\" class=\"dataframe\">\n",
       "  <thead>\n",
       "    <tr style=\"text-align: right;\">\n",
       "      <th></th>\n",
       "      <th>ts</th>\n",
       "      <th>ms_played</th>\n",
       "      <th>conn_country</th>\n",
       "      <th>track_name</th>\n",
       "      <th>artist_name</th>\n",
       "      <th>album_name</th>\n",
       "      <th>spotify_track_uri</th>\n",
       "      <th>episode_name</th>\n",
       "      <th>episode_show_name</th>\n",
       "      <th>spotify_episode_uri</th>\n",
       "      <th>reason_start</th>\n",
       "      <th>reason_end</th>\n",
       "      <th>shuffle</th>\n",
       "      <th>skipped</th>\n",
       "      <th>offline</th>\n",
       "      <th>offline_timestamp</th>\n",
       "      <th>incognito_mode</th>\n",
       "      <th>filename</th>\n",
       "      <th>device</th>\n",
       "      <th>year</th>\n",
       "      <th>year_month</th>\n",
       "      <th>date</th>\n",
       "    </tr>\n",
       "  </thead>\n",
       "  <tbody>\n",
       "    <tr>\n",
       "      <th>61375</th>\n",
       "      <td>2022-11-24T22:42:26Z</td>\n",
       "      <td>788584</td>\n",
       "      <td>FR</td>\n",
       "      <td>NaN</td>\n",
       "      <td>NaN</td>\n",
       "      <td>NaN</td>\n",
       "      <td>NaN</td>\n",
       "      <td>Journal 07h00 du mardi 22 novembre 2022</td>\n",
       "      <td>Journal de 07h00</td>\n",
       "      <td>spotify:episode:4Adwt7pETOXPNplhooHLa1</td>\n",
       "      <td>clickrow</td>\n",
       "      <td>endplay</td>\n",
       "      <td>False</td>\n",
       "      <td>NaN</td>\n",
       "      <td>0.0</td>\n",
       "      <td>1.669328e+12</td>\n",
       "      <td>False</td>\n",
       "      <td>endsong_3.json</td>\n",
       "      <td>Android OS</td>\n",
       "      <td>2022</td>\n",
       "      <td>2022-11</td>\n",
       "      <td>2022-11-24</td>\n",
       "    </tr>\n",
       "    <tr>\n",
       "      <th>88700</th>\n",
       "      <td>2022-11-24T22:18:34Z</td>\n",
       "      <td>155703</td>\n",
       "      <td>FR</td>\n",
       "      <td>Dancing With The Devil</td>\n",
       "      <td>ISBANKY</td>\n",
       "      <td>Dancing With The Devil</td>\n",
       "      <td>spotify:track:0ChUbF2A6VjPVRFOKJ8VSN</td>\n",
       "      <td>NaN</td>\n",
       "      <td>NaN</td>\n",
       "      <td>NaN</td>\n",
       "      <td>trackdone</td>\n",
       "      <td>logout</td>\n",
       "      <td>False</td>\n",
       "      <td>NaN</td>\n",
       "      <td>0.0</td>\n",
       "      <td>1.669325e+12</td>\n",
       "      <td>False</td>\n",
       "      <td>endsong_5.json</td>\n",
       "      <td>Android OS</td>\n",
       "      <td>2022</td>\n",
       "      <td>2022-11</td>\n",
       "      <td>2022-11-24</td>\n",
       "    </tr>\n",
       "    <tr>\n",
       "      <th>36788</th>\n",
       "      <td>2022-11-24T21:29:29Z</td>\n",
       "      <td>123750</td>\n",
       "      <td>FR</td>\n",
       "      <td>Pharaoh's Wrath</td>\n",
       "      <td>Feerix</td>\n",
       "      <td>Pharaoh's Wrath</td>\n",
       "      <td>spotify:track:1XQQwnbfGqezphAHjaVxXR</td>\n",
       "      <td>NaN</td>\n",
       "      <td>NaN</td>\n",
       "      <td>NaN</td>\n",
       "      <td>trackdone</td>\n",
       "      <td>trackdone</td>\n",
       "      <td>False</td>\n",
       "      <td>NaN</td>\n",
       "      <td>0.0</td>\n",
       "      <td>1.669325e+12</td>\n",
       "      <td>False</td>\n",
       "      <td>endsong_2.json</td>\n",
       "      <td>Android OS</td>\n",
       "      <td>2022</td>\n",
       "      <td>2022-11</td>\n",
       "      <td>2022-11-24</td>\n",
       "    </tr>\n",
       "    <tr>\n",
       "      <th>7564</th>\n",
       "      <td>2022-11-24T21:27:24Z</td>\n",
       "      <td>187306</td>\n",
       "      <td>FR</td>\n",
       "      <td>Ma solitude</td>\n",
       "      <td>Kendji Girac</td>\n",
       "      <td>Ensemble</td>\n",
       "      <td>spotify:track:2lZW1J1ScVcV8qHMkHN64u</td>\n",
       "      <td>NaN</td>\n",
       "      <td>NaN</td>\n",
       "      <td>NaN</td>\n",
       "      <td>clickrow</td>\n",
       "      <td>trackdone</td>\n",
       "      <td>False</td>\n",
       "      <td>NaN</td>\n",
       "      <td>0.0</td>\n",
       "      <td>1.669325e+12</td>\n",
       "      <td>False</td>\n",
       "      <td>endsong_0.json</td>\n",
       "      <td>Android OS</td>\n",
       "      <td>2022</td>\n",
       "      <td>2022-11</td>\n",
       "      <td>2022-11-24</td>\n",
       "    </tr>\n",
       "    <tr>\n",
       "      <th>89308</th>\n",
       "      <td>2022-11-24T21:24:18Z</td>\n",
       "      <td>17268</td>\n",
       "      <td>FR</td>\n",
       "      <td>Poison Love</td>\n",
       "      <td>Dreamcatcher</td>\n",
       "      <td>[Dystopia : Road to Utopia]</td>\n",
       "      <td>spotify:track:7C3cUybMDDF7PKyFcDWouF</td>\n",
       "      <td>NaN</td>\n",
       "      <td>NaN</td>\n",
       "      <td>NaN</td>\n",
       "      <td>trackdone</td>\n",
       "      <td>endplay</td>\n",
       "      <td>False</td>\n",
       "      <td>NaN</td>\n",
       "      <td>0.0</td>\n",
       "      <td>1.669325e+12</td>\n",
       "      <td>False</td>\n",
       "      <td>endsong_5.json</td>\n",
       "      <td>Android OS</td>\n",
       "      <td>2022</td>\n",
       "      <td>2022-11</td>\n",
       "      <td>2022-11-24</td>\n",
       "    </tr>\n",
       "  </tbody>\n",
       "</table>\n",
       "</div>"
      ],
      "text/plain": [
       "                         ts  ms_played conn_country              track_name  \\\n",
       "61375  2022-11-24T22:42:26Z     788584           FR                     NaN   \n",
       "88700  2022-11-24T22:18:34Z     155703           FR  Dancing With The Devil   \n",
       "36788  2022-11-24T21:29:29Z     123750           FR         Pharaoh's Wrath   \n",
       "7564   2022-11-24T21:27:24Z     187306           FR             Ma solitude   \n",
       "89308  2022-11-24T21:24:18Z      17268           FR             Poison Love   \n",
       "\n",
       "        artist_name                   album_name  \\\n",
       "61375           NaN                          NaN   \n",
       "88700       ISBANKY       Dancing With The Devil   \n",
       "36788        Feerix              Pharaoh's Wrath   \n",
       "7564   Kendji Girac                     Ensemble   \n",
       "89308  Dreamcatcher  [Dystopia : Road to Utopia]   \n",
       "\n",
       "                          spotify_track_uri  \\\n",
       "61375                                   NaN   \n",
       "88700  spotify:track:0ChUbF2A6VjPVRFOKJ8VSN   \n",
       "36788  spotify:track:1XQQwnbfGqezphAHjaVxXR   \n",
       "7564   spotify:track:2lZW1J1ScVcV8qHMkHN64u   \n",
       "89308  spotify:track:7C3cUybMDDF7PKyFcDWouF   \n",
       "\n",
       "                                  episode_name episode_show_name  \\\n",
       "61375  Journal 07h00 du mardi 22 novembre 2022  Journal de 07h00   \n",
       "88700                                      NaN               NaN   \n",
       "36788                                      NaN               NaN   \n",
       "7564                                       NaN               NaN   \n",
       "89308                                      NaN               NaN   \n",
       "\n",
       "                          spotify_episode_uri reason_start reason_end  \\\n",
       "61375  spotify:episode:4Adwt7pETOXPNplhooHLa1     clickrow    endplay   \n",
       "88700                                     NaN    trackdone     logout   \n",
       "36788                                     NaN    trackdone  trackdone   \n",
       "7564                                      NaN     clickrow  trackdone   \n",
       "89308                                     NaN    trackdone    endplay   \n",
       "\n",
       "       shuffle  skipped  offline  offline_timestamp  incognito_mode  \\\n",
       "61375    False      NaN      0.0       1.669328e+12           False   \n",
       "88700    False      NaN      0.0       1.669325e+12           False   \n",
       "36788    False      NaN      0.0       1.669325e+12           False   \n",
       "7564     False      NaN      0.0       1.669325e+12           False   \n",
       "89308    False      NaN      0.0       1.669325e+12           False   \n",
       "\n",
       "             filename      device  year year_month        date  \n",
       "61375  endsong_3.json  Android OS  2022    2022-11  2022-11-24  \n",
       "88700  endsong_5.json  Android OS  2022    2022-11  2022-11-24  \n",
       "36788  endsong_2.json  Android OS  2022    2022-11  2022-11-24  \n",
       "7564   endsong_0.json  Android OS  2022    2022-11  2022-11-24  \n",
       "89308  endsong_5.json  Android OS  2022    2022-11  2022-11-24  "
      ]
     },
     "execution_count": 8,
     "metadata": {},
     "output_type": "execute_result"
    }
   ],
   "source": [
    "# Step 6: Rename some variables whose names are unclear and/or too long\n",
    "spotify_data = spotify_data.rename(columns = {'master_metadata_track_name' : 'track_name',\n",
    "                                   'master_metadata_album_artist_name' : 'artist_name',\n",
    "                                   'master_metadata_album_album_name' : 'album_name'\n",
    "                                             })\n",
    "\n",
    "#End results\n",
    "pd.set_option('display.max_columns', None)\n",
    "spotify_data.sort_values('ts', ascending = False).head(5)"
   ]
  },
  {
   "cell_type": "markdown",
   "id": "5926675d-04ca-4800-b80c-2534cc04915a",
   "metadata": {},
   "source": [
    "## 2. Set up the SQL connection"
   ]
  },
  {
   "cell_type": "markdown",
   "id": "82b76d9f-4604-42b3-b1bb-9955aaf0fb50",
   "metadata": {},
   "source": [
    "*Objective* : The spotify_data dataframe will be analyzed thanks to SQL queries. The goal is indeed to mimick data analysis in a Datawharehouse like Teradata or Google Big Query. To do so, I must create a SQL connection beforehand."
   ]
  },
  {
   "cell_type": "code",
   "execution_count": 9,
   "id": "6aeb9c60-811d-43af-a12a-5bc893aafc61",
   "metadata": {},
   "outputs": [
    {
     "data": {
      "text/plain": [
       "97998"
      ]
     },
     "execution_count": 9,
     "metadata": {},
     "output_type": "execute_result"
    }
   ],
   "source": [
    "# Create the SQLITE3 connection\n",
    "cnx = sqlite3.connect(':memory:')\n",
    "\n",
    "# Transform the Pandas dataframe \"spotify_data\" to a SQL table \"spotify\"\n",
    "spotify_data.to_sql(name='spotify', con=cnx)"
   ]
  },
  {
   "cell_type": "markdown",
   "id": "95a485cc-fff7-441f-82a0-18d842514df1",
   "metadata": {},
   "source": [
    "## 3. Understand the dataset"
   ]
  },
  {
   "cell_type": "markdown",
   "id": "20b1e1b5-8298-49b5-9275-677faa5bdb02",
   "metadata": {},
   "source": [
    "*Objective*: I perform some simple exploratory data analyses to better understand the dataset I retrieved in the previous steps. The goal is to answer some simple questions:\n",
    "* What is the total volumetry? How is it distributed per JSON file and year ?\n",
    "* What is the period considered (min and max dates) ?\n",
    "* Are there problems (NULLs, duplicates, etc) ?"
   ]
  },
  {
   "cell_type": "code",
   "execution_count": 10,
   "id": "912f15f6-8606-4f78-a6d2-9685371eb176",
   "metadata": {},
   "outputs": [
    {
     "name": "stdout",
     "output_type": "stream",
     "text": [
      "   nb_rows\n",
      "0    97998\n"
     ]
    }
   ],
   "source": [
    "# Total volumetry: About 100k rows in total\n",
    "volumetry = pd.read_sql('''SELECT COUNT(*) AS nb_rows \n",
    "                        FROM spotify''', cnx)\n",
    "print(volumetry)"
   ]
  },
  {
   "cell_type": "code",
   "execution_count": 19,
   "id": "a0c92a63-3d73-4517-9c66-da9b1c726c78",
   "metadata": {},
   "outputs": [
    {
     "name": "stdout",
     "output_type": "stream",
     "text": [
      "         filename    min_date    max_date  nb_rows  music_tracks  podcast_eps  \\\n",
      "0  endsong_0.json  2020-02-02  2022-11-24    15851         15485          357   \n",
      "1  endsong_1.json  2020-02-02  2022-11-24    15855         15510          332   \n",
      "2  endsong_2.json  2020-02-02  2022-11-24    15849         15509          322   \n",
      "3  endsong_3.json  2020-02-02  2022-11-24    15838         15507          317   \n",
      "4  endsong_4.json  2020-02-02  2022-11-24    15834         15504          320   \n",
      "5  endsong_5.json  2020-02-02  2022-11-24    15833         15472          351   \n",
      "6  endsong_6.json  2020-02-03  2022-11-24     2900          2849           51   \n",
      "7   endvideo.json  2021-07-30  2022-11-22       38             0           38   \n",
      "\n",
      "   pct_music_tracks  pct_podcast  \n",
      "0              0.98         0.02  \n",
      "1              0.98         0.02  \n",
      "2              0.98         0.02  \n",
      "3              0.98         0.02  \n",
      "4              0.98         0.02  \n",
      "5              0.98         0.02  \n",
      "6              0.98         0.02  \n",
      "7              0.00         1.00  \n"
     ]
    }
   ],
   "source": [
    "# Volumetry per file: \n",
    "    # Every JSON file contains about 15,800 rows (except the video and last endsong files)\n",
    "    # The data span from February 2020 to end November 2022\n",
    "    # Each file contains about the same proportion of music tracks (98%) / podcasts episodes (2%) \n",
    "    # - except the endvideo file that contains only video podcasts\n",
    "volumetry_file = pd.read_sql('''SELECT filename, \n",
    "                                 MIN(date) AS min_date,\n",
    "                                 MAX(date) AS max_date,\n",
    "                                 COUNT(*) AS nb_rows,\n",
    "                                 SUM(CASE WHEN track_name IS NOT NULL THEN 1 ELSE 0 END) AS music_tracks,\n",
    "                                 SUM(CASE WHEN episode_name IS NOT NULL THEN 1 ELSE 0 END) AS podcast_eps,\n",
    "                                 ROUND(CAST(SUM(CASE WHEN track_name IS NOT NULL THEN 1 ELSE 0 END) AS FLOAT)\n",
    "                                   / CAST(COUNT(*) AS FLOAT),2) AS pct_music_tracks,\n",
    "                                 ROUND(CAST(SUM(CASE WHEN episode_name IS NOT NULL THEN 1 ELSE 0 END) AS FLOAT) /\n",
    "                                 CAST(COUNT(*) AS FLOAT), 2) AS pct_podcast\n",
    "                             FROM spotify\n",
    "                             GROUP BY 1''', cnx)\n",
    "\n",
    "print(volumetry_file)"
   ]
  },
  {
   "cell_type": "markdown",
   "id": "4031b545-9de7-4f75-959b-4883307a30a7",
   "metadata": {},
   "source": [
    "## 4. Data analysis"
   ]
  },
  {
   "cell_type": "markdown",
   "id": "dbf2920f-1bd5-42cc-b9ca-9fb0bd1f0199",
   "metadata": {},
   "source": [
    "### 4.1 Yearly listening habits"
   ]
  },
  {
   "cell_type": "code",
   "execution_count": 32,
   "id": "96ea73f2-0e01-4695-9344-1cc5ae34f4b8",
   "metadata": {},
   "outputs": [
    {
     "name": "stdout",
     "output_type": "stream",
     "text": [
      "   year  nb_sessions  artists  music_tracks  podcasts  podcast_shows  \\\n",
      "0  2022        44371     1465          4896       916             44   \n",
      "1  2021        33696      782          2643       622             37   \n",
      "2  2020        19931      693          2628        45             13   \n",
      "\n",
      "   evol_nb_sessions  evol_artists  evol_music_tracks  evol_podcasts  \\\n",
      "0              0.32          0.87               0.85           0.47   \n",
      "1              0.69          0.13               0.01          12.82   \n",
      "2               NaN           NaN                NaN            NaN   \n",
      "\n",
      "   evol_podcast_shows  \n",
      "0                0.19  \n",
      "1                1.85  \n",
      "2                 NaN  \n"
     ]
    }
   ],
   "source": [
    "## 4.1. Listening habits\n",
    "listening_year = \\\n",
    "    pd.read_sql('''\n",
    "             SELECT year, nb_sessions, artists, music_tracks, podcasts, podcast_shows,\n",
    "                 ROUND(CAST(nb_sessions AS FLOAT) / \n",
    "                       CAST(LAG(nb_sessions) OVER (ORDER BY year) AS FLOAT),2) -1 AS evol_nb_sessions,\n",
    "                 ROUND(CAST(artists AS FLOAT) / \n",
    "                       CAST(LAG(artists) OVER (ORDER BY year) AS FLOAT),2) -1 AS evol_artists, \n",
    "                 ROUND(CAST(music_tracks AS FLOAT) / \n",
    "                       CAST(LAG(music_tracks) OVER (ORDER BY year) AS FLOAT),2) -1 AS evol_music_tracks,\n",
    "                 ROUND(CAST(podcasts AS FLOAT) / \n",
    "                       CAST(LAG(podcasts) OVER (ORDER BY year) AS FLOAT), 2) -1 AS evol_podcasts, \n",
    "                 ROUND(CAST(podcast_shows AS FLOAT) / \n",
    "                       CAST(LAG(podcast_shows) OVER (ORDER BY year) AS FLOAT), 2) -1 AS evol_podcast_shows\n",
    "             FROM (\n",
    "             SELECT year, \n",
    "                   COUNT(*) AS nb_sessions,\n",
    "                   COUNT(DISTINCT artist_name) AS artists, \n",
    "                   COUNT(DISTINCT spotify_track_uri) AS music_tracks,\n",
    "                   COUNT(DISTINCT spotify_episode_uri) AS podcasts,\n",
    "                   COUNT(DISTINCT episode_show_name) AS podcast_shows\n",
    "               FROM spotify\n",
    "               GROUP BY year\n",
    "               ORDER BY year DESC\n",
    "             ) subquery\n",
    "             ORDER BY year DESC''', cnx)\n",
    "print(listening_year)"
   ]
  },
  {
   "cell_type": "code",
   "execution_count": null,
   "id": "d37f9f32-b9f3-4e1a-8b53-b7b4a9bd3695",
   "metadata": {},
   "outputs": [],
   "source": [
    "## 4.1. Favorite tracks and artists"
   ]
  },
  {
   "cell_type": "markdown",
   "id": "e06bc888-fe0d-4abc-8e6a-abcbc968f0f1",
   "metadata": {},
   "source": [
    "Opérations à faire : \n",
    "* Transformer certaines variables : millisecondes en secondes et minutes"
   ]
  },
  {
   "cell_type": "code",
   "execution_count": null,
   "id": "43b8853a-8f65-47bd-b580-64074173c7de",
   "metadata": {},
   "outputs": [],
   "source": [
    "Questions : \n",
    "    * Combien d'artistes / chansons écoutés par an ? Et quelle évolution (cf. playlists : j'en écoutais pas avant -> normalement, j'écoute de plus en plus d'artistes différents)\n",
    "    * Quels genres de musique ? -> essayer de récupérer l'info d'une source externe\n",
    "    * Combien de morceaux écoutés par jour ?\n",
    "    * Temps moyen d'écoute par jour ?\n",
    "    * Durée de mes morceaux populaires : de plus en plus courts ?\n",
    "    * Est-ce que je suis maniaque d'un artiste -> j'écoute tout de lui ou alors j'aime seulement un seul morceau de l'artiste à mort ?\n",
    "    * Est-ce que je \"zappe\" beaucoup ? \n",
    "    * Suis-je une utilisatrice active : jours consécutifs d'écoute dans le mois / la semaine ?\n",
    "    * Quand j'écoute la musique : matin, midi, soir ? -> transports en commun, travail, week-end ?\n",
    "    * Quels sont mes tops 10 artistes ? Comment ont-ils évolué ? -> toujours les mêmes ou pas ?\n",
    "    * Même question pour mes meilleures chansons : ça bouge ou pas ? Quelles sont leurs caractéristiques : même artiste, même genre, même durée,... ?\n",
    "    * Quand sont sortis les morceaux populaires ? -> Est-ce que j'écoute de la musique new ou bien je commence à être nostalgique de vieux morceaux ?\n",
    "    * Qu'en est-il des podcasts ? -> Je les écoute avant de m'endormir ?\n",
    "    * Combien de podcasts par jour ?\n",
    "    * Est-ce que j'utilise beaucoup certaines features de Spotify : mode incognito, mode hors ligne, ... ?"
   ]
  },
  {
   "cell_type": "code",
   "execution_count": null,
   "id": "57e420bc-9d40-4c59-a3c7-67ef33d05bc0",
   "metadata": {},
   "outputs": [],
   "source": [
    "# Step 2 : SQL connection\n",
    "import sqlite3\n",
    "\n",
    "# Set up SQL connexion\n",
    "sql_connect = sqlite3.connect('spotify_data.db')\n",
    "\n",
    "# To execute some SQL command\n",
    "cursor = sql_connect.cursor()\n",
    "\n",
    "# Create database\n",
    "#cursor.execute('''CREATE TABLE spotify_data (\n",
    " #   ts timestamp,\n",
    "  #  username text)''') \n",
    "\n",
    "#cursor.execute(\"INSERT INTO spotify_data VALUES ('2022-07-17T06:07:42Z', 'v7x27nfjb2dri60b7jzl159rl')\")\n",
    "\n",
    "cursor.execute(\"SELECT * FROM spotify_data;\")\n",
    "print(cursor.fetchone())\n",
    "\n",
    "sql_connect.commit()\n",
    "\n",
    "sql_connect.close()"
   ]
  },
  {
   "cell_type": "code",
   "execution_count": null,
   "id": "e9fa6673-a05f-4a75-8e93-6ba544f88ca6",
   "metadata": {},
   "outputs": [],
   "source": [
    "# Test 2 : Je récupère la liste des fichiers JSON dans mon dossier\n",
    "import os, json\n",
    "import pandas as pd\n",
    "\n",
    "path_to_json = 'C:/Users/margo/Documents/Documents/Formation/Github/Spotify/MyData/'\n",
    "json_files = [pos_json for pos_json in os.listdir(path_to_json) if pos_json.endswith('.json')]\n",
    "print(json_files) \n",
    "\n",
    "# Puis j'essaie d'importer chaque file une par une \n",
    "for file in json_files :\n",
    "    df = pd.read_json(path_to_json + file)\n",
    "    \n",
    "df"
   ]
  },
  {
   "cell_type": "code",
   "execution_count": null,
   "id": "335dcc71-b4dc-4fef-848a-7b25806968e0",
   "metadata": {},
   "outputs": [],
   "source": [
    "spotify_data = pd.DataFrame(columns=['ts', 'username', 'platform',\n",
    "                                    'ms_played', 'conn_country', 'user_agent_decrypted',\n",
    "                                     'master_metadata_track_name',\n",
    "                                     'master_metadata_album_artist_name',\n",
    "                                     'master_metadata_album_album_name',\n",
    "                                     'spotify_track_uri',\n",
    "                                     'episode_name',\n",
    "                                     'episode_show_name',\n",
    "                                     'spotify_episode_uri',\n",
    "                                     'reason_start',\n",
    "                                     'reason_end',\n",
    "                                     'shuffle', 'skipped', 'offline', 'offline_timestamp'\n",
    "                                    ])\n",
    "spotify_data.head(5)\n",
    "#print spotify_json['features'][0]['geometry']"
   ]
  }
 ],
 "metadata": {
  "kernelspec": {
   "display_name": "Python 3 (ipykernel)",
   "language": "python",
   "name": "python3"
  },
  "language_info": {
   "codemirror_mode": {
    "name": "ipython",
    "version": 3
   },
   "file_extension": ".py",
   "mimetype": "text/x-python",
   "name": "python",
   "nbconvert_exporter": "python",
   "pygments_lexer": "ipython3",
   "version": "3.9.13"
  }
 },
 "nbformat": 4,
 "nbformat_minor": 5
}
