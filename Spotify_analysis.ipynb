{
 "cells": [
  {
   "cell_type": "markdown",
   "id": "170fe385-bd92-410d-9304-12107474d376",
   "metadata": {},
   "source": [
    "# Spotify data analysis: A retrospective\n",
    "\n",
    "Every December since 2016, Spotify users discover their \"Spotify Wrapped\". The latter provides a compilation of data about their activity on the platform over the past year: top artists, top songs, top genres, etc. They get a deep dive into their most memorable listening moments of the year.\n",
    "\n",
    "Objectives:\n",
    "* JSON : Import several JSON files in an elegant way in Python\n",
    "* SQL : \n",
    "  * Write SQL queries in Python\n",
    "  * Demonstrate my abilities to code in SQL -> WINDOW FUNCTIONS, JOINS, etc\n",
    "* PYTHON : Make a summary visual report in Python (hvplot)"
   ]
  },
  {
   "cell_type": "code",
   "execution_count": 10,
   "id": "c9f9f7c2-56c8-4370-802c-4d0f90673320",
   "metadata": {},
   "outputs": [],
   "source": [
    "# Import all relevant Python packages\n",
    "import glob\n",
    "import os\n",
    "import pandas as pd\n",
    "import json\n",
    "import string\n",
    "import sqlite3"
   ]
  },
  {
   "cell_type": "markdown",
   "id": "6d5d3739-c37f-4ce8-a591-d278f0b310d3",
   "metadata": {},
   "source": [
    "## 1. Import the Spotify data (JSON files)"
   ]
  },
  {
   "cell_type": "markdown",
   "id": "786e100a-e7a4-4709-abda-207cae6bda0a",
   "metadata": {},
   "source": [
    "*Objective* : I received my Spotify data in different batches (8 JSON files). My goal is to import all of them in a single piece of code.\n",
    "*Inspiration for the code below* : https://stackoverflow.com/questions/41857659/python-pandas-add-filename-column-csv"
   ]
  },
  {
   "cell_type": "code",
   "execution_count": 2,
   "id": "f13aed37-ce50-4f63-867f-aa828de2cf0e",
   "metadata": {},
   "outputs": [
    {
     "data": {
      "text/plain": [
       "['C:/Users/margo/Documents/Documents/Formation/Github/Spotify/MyData\\\\endsong_0.json',\n",
       " 'C:/Users/margo/Documents/Documents/Formation/Github/Spotify/MyData\\\\endsong_1.json',\n",
       " 'C:/Users/margo/Documents/Documents/Formation/Github/Spotify/MyData\\\\endsong_2.json',\n",
       " 'C:/Users/margo/Documents/Documents/Formation/Github/Spotify/MyData\\\\endsong_3.json',\n",
       " 'C:/Users/margo/Documents/Documents/Formation/Github/Spotify/MyData\\\\endsong_4.json',\n",
       " 'C:/Users/margo/Documents/Documents/Formation/Github/Spotify/MyData\\\\endsong_5.json',\n",
       " 'C:/Users/margo/Documents/Documents/Formation/Github/Spotify/MyData\\\\endsong_6.json',\n",
       " 'C:/Users/margo/Documents/Documents/Formation/Github/Spotify/MyData\\\\endvideo.json']"
      ]
     },
     "execution_count": 2,
     "metadata": {},
     "output_type": "execute_result"
    }
   ],
   "source": [
    "# Step 1 : I look for all JSON files available in my Windows folder (where I stored my Spotify data)\n",
    "\n",
    "path_to_json = 'C:/Users/margo/Documents/Documents/Formation/Github/Spotify/MyData/' #local path to my JSON files folder \n",
    "json_pattern = os.path.join(path_to_json,'*.json') #looking for every JSON file\n",
    "globbed_files = glob.glob(json_pattern) #listing all the JSON files\n",
    "globbed_files #overview"
   ]
  },
  {
   "cell_type": "markdown",
   "id": "516695d4-49b6-4fce-a62e-9ca74d77bff5",
   "metadata": {},
   "source": [
    "Comment: My Windows folder contains 8 different JSON files. 7 start with the name \"endsong\" and 1 is focused on videos (endvideo)."
   ]
  },
  {
   "cell_type": "code",
   "execution_count": 3,
   "id": "c6a4f033-f46a-49ec-9eba-ba8db3d944f0",
   "metadata": {},
   "outputs": [],
   "source": [
    "# Step 2: I open and read every JSON file thanks to a for loop. \n",
    "   # I also add a column \"filename\" that contains the name of each file\n",
    "   # Finally, I store all data in a \"data\" list\n",
    "\n",
    "data = [] # empty list (initialization) \n",
    "for json in globbed_files:\n",
    "    frame = pd.read_json(json) \n",
    "    frame['filename'] = os.path.basename(json) \n",
    "    data.append(frame) "
   ]
  },
  {
   "cell_type": "code",
   "execution_count": 5,
   "id": "5ad7d18d-97b3-4350-8484-0af28b20d731",
   "metadata": {},
   "outputs": [
    {
     "name": "stderr",
     "output_type": "stream",
     "text": [
      "C:\\Users\\margo\\AppData\\Local\\Temp\\ipykernel_25548\\3168533311.py:2: FutureWarning: Behavior when concatenating bool-dtype and numeric-dtype arrays is deprecated; in a future version these will cast to object dtype (instead of coercing bools to numeric values). To retain the old behavior, explicitly cast bool-dtype arrays to numeric dtype.\n",
      "  bigframe = pd.concat(data, ignore_index=True) #dont want pandas to try an align row indexes\n"
     ]
    }
   ],
   "source": [
    "# Step 3: Export and then import the data as dataframe\n",
    "bigframe = pd.concat(data, ignore_index=True) #dont want pandas to try an align row indexes\n",
    "bigframe.to_csv(\"spotify_data.csv\", sep = ';')"
   ]
  },
  {
   "cell_type": "code",
   "execution_count": 14,
   "id": "1253c144-a7b5-4f2c-968d-647ca8906786",
   "metadata": {},
   "outputs": [
    {
     "data": {
      "text/html": [
       "<div>\n",
       "<style scoped>\n",
       "    .dataframe tbody tr th:only-of-type {\n",
       "        vertical-align: middle;\n",
       "    }\n",
       "\n",
       "    .dataframe tbody tr th {\n",
       "        vertical-align: top;\n",
       "    }\n",
       "\n",
       "    .dataframe thead th {\n",
       "        text-align: right;\n",
       "    }\n",
       "</style>\n",
       "<table border=\"1\" class=\"dataframe\">\n",
       "  <thead>\n",
       "    <tr style=\"text-align: right;\">\n",
       "      <th></th>\n",
       "      <th>ts</th>\n",
       "      <th>ms_played</th>\n",
       "      <th>conn_country</th>\n",
       "      <th>master_metadata_track_name</th>\n",
       "      <th>master_metadata_album_artist_name</th>\n",
       "      <th>master_metadata_album_album_name</th>\n",
       "      <th>spotify_track_uri</th>\n",
       "      <th>episode_name</th>\n",
       "      <th>episode_show_name</th>\n",
       "      <th>spotify_episode_uri</th>\n",
       "      <th>reason_start</th>\n",
       "      <th>reason_end</th>\n",
       "      <th>shuffle</th>\n",
       "      <th>skipped</th>\n",
       "      <th>offline</th>\n",
       "      <th>offline_timestamp</th>\n",
       "      <th>incognito_mode</th>\n",
       "      <th>filename</th>\n",
       "      <th>device</th>\n",
       "    </tr>\n",
       "  </thead>\n",
       "  <tbody>\n",
       "    <tr>\n",
       "      <th>0</th>\n",
       "      <td>2021-07-27T14:56:37Z</td>\n",
       "      <td>168168</td>\n",
       "      <td>FR</td>\n",
       "      <td>One Summer's Day</td>\n",
       "      <td>Smyang Piano</td>\n",
       "      <td>One Summer's Day</td>\n",
       "      <td>spotify:track:1MFASTOgDmN4AdjC6aPX3b</td>\n",
       "      <td>NaN</td>\n",
       "      <td>NaN</td>\n",
       "      <td>NaN</td>\n",
       "      <td>trackdone</td>\n",
       "      <td>trackdone</td>\n",
       "      <td>False</td>\n",
       "      <td>NaN</td>\n",
       "      <td>0.0</td>\n",
       "      <td>1.627398e+12</td>\n",
       "      <td>False</td>\n",
       "      <td>endsong_0.json</td>\n",
       "      <td>Windows 10</td>\n",
       "    </tr>\n",
       "    <tr>\n",
       "      <th>1</th>\n",
       "      <td>2021-12-06T19:56:36Z</td>\n",
       "      <td>6370</td>\n",
       "      <td>FR</td>\n",
       "      <td>ONE SHOT</td>\n",
       "      <td>B.A.P</td>\n",
       "      <td>ONE SHOT</td>\n",
       "      <td>spotify:track:3ECzwLt2OYNXjLMeTnYzp2</td>\n",
       "      <td>NaN</td>\n",
       "      <td>NaN</td>\n",
       "      <td>NaN</td>\n",
       "      <td>clickrow</td>\n",
       "      <td>endplay</td>\n",
       "      <td>False</td>\n",
       "      <td>NaN</td>\n",
       "      <td>0.0</td>\n",
       "      <td>1.638821e+12</td>\n",
       "      <td>False</td>\n",
       "      <td>endsong_0.json</td>\n",
       "      <td>Android OS</td>\n",
       "    </tr>\n",
       "    <tr>\n",
       "      <th>2</th>\n",
       "      <td>2020-11-25T11:05:19Z</td>\n",
       "      <td>184453</td>\n",
       "      <td>FR</td>\n",
       "      <td>BTD (Before The Dawn)</td>\n",
       "      <td>INFINITE</td>\n",
       "      <td>Evolution</td>\n",
       "      <td>spotify:track:1IoCgKZwRgvMZzha9c52jM</td>\n",
       "      <td>NaN</td>\n",
       "      <td>NaN</td>\n",
       "      <td>NaN</td>\n",
       "      <td>trackdone</td>\n",
       "      <td>trackdone</td>\n",
       "      <td>False</td>\n",
       "      <td>NaN</td>\n",
       "      <td>0.0</td>\n",
       "      <td>1.606302e+12</td>\n",
       "      <td>False</td>\n",
       "      <td>endsong_0.json</td>\n",
       "      <td>Windows 10</td>\n",
       "    </tr>\n",
       "    <tr>\n",
       "      <th>3</th>\n",
       "      <td>2022-05-16T09:12:05Z</td>\n",
       "      <td>492</td>\n",
       "      <td>FR</td>\n",
       "      <td>El Dorado</td>\n",
       "      <td>Thomas Bergersen</td>\n",
       "      <td>SkyWorld</td>\n",
       "      <td>spotify:track:4o0sJFXHckKlBhhynZsSIg</td>\n",
       "      <td>NaN</td>\n",
       "      <td>NaN</td>\n",
       "      <td>NaN</td>\n",
       "      <td>fwdbtn</td>\n",
       "      <td>fwdbtn</td>\n",
       "      <td>False</td>\n",
       "      <td>NaN</td>\n",
       "      <td>0.0</td>\n",
       "      <td>1.652692e+12</td>\n",
       "      <td>False</td>\n",
       "      <td>endsong_0.json</td>\n",
       "      <td>Android OS</td>\n",
       "    </tr>\n",
       "    <tr>\n",
       "      <th>4</th>\n",
       "      <td>2022-03-26T20:24:49Z</td>\n",
       "      <td>355</td>\n",
       "      <td>FR</td>\n",
       "      <td>Euphoria</td>\n",
       "      <td>BTS</td>\n",
       "      <td>Love Yourself 結 'Answer'</td>\n",
       "      <td>spotify:track:5YMXGBD6vcYP7IolemyLtK</td>\n",
       "      <td>NaN</td>\n",
       "      <td>NaN</td>\n",
       "      <td>NaN</td>\n",
       "      <td>fwdbtn</td>\n",
       "      <td>fwdbtn</td>\n",
       "      <td>False</td>\n",
       "      <td>NaN</td>\n",
       "      <td>0.0</td>\n",
       "      <td>1.648326e+12</td>\n",
       "      <td>False</td>\n",
       "      <td>endsong_0.json</td>\n",
       "      <td>Android OS</td>\n",
       "    </tr>\n",
       "  </tbody>\n",
       "</table>\n",
       "</div>"
      ],
      "text/plain": [
       "                     ts  ms_played conn_country master_metadata_track_name  \\\n",
       "0  2021-07-27T14:56:37Z     168168           FR           One Summer's Day   \n",
       "1  2021-12-06T19:56:36Z       6370           FR                   ONE SHOT   \n",
       "2  2020-11-25T11:05:19Z     184453           FR      BTD (Before The Dawn)   \n",
       "3  2022-05-16T09:12:05Z        492           FR                  El Dorado   \n",
       "4  2022-03-26T20:24:49Z        355           FR                   Euphoria   \n",
       "\n",
       "  master_metadata_album_artist_name master_metadata_album_album_name  \\\n",
       "0                      Smyang Piano                 One Summer's Day   \n",
       "1                             B.A.P                         ONE SHOT   \n",
       "2                          INFINITE                        Evolution   \n",
       "3                  Thomas Bergersen                         SkyWorld   \n",
       "4                               BTS         Love Yourself 結 'Answer'   \n",
       "\n",
       "                      spotify_track_uri episode_name episode_show_name  \\\n",
       "0  spotify:track:1MFASTOgDmN4AdjC6aPX3b          NaN               NaN   \n",
       "1  spotify:track:3ECzwLt2OYNXjLMeTnYzp2          NaN               NaN   \n",
       "2  spotify:track:1IoCgKZwRgvMZzha9c52jM          NaN               NaN   \n",
       "3  spotify:track:4o0sJFXHckKlBhhynZsSIg          NaN               NaN   \n",
       "4  spotify:track:5YMXGBD6vcYP7IolemyLtK          NaN               NaN   \n",
       "\n",
       "  spotify_episode_uri reason_start reason_end  shuffle  skipped  offline  \\\n",
       "0                 NaN    trackdone  trackdone    False      NaN      0.0   \n",
       "1                 NaN     clickrow    endplay    False      NaN      0.0   \n",
       "2                 NaN    trackdone  trackdone    False      NaN      0.0   \n",
       "3                 NaN       fwdbtn     fwdbtn    False      NaN      0.0   \n",
       "4                 NaN       fwdbtn     fwdbtn    False      NaN      0.0   \n",
       "\n",
       "   offline_timestamp  incognito_mode        filename      device  \n",
       "0       1.627398e+12           False  endsong_0.json  Windows 10  \n",
       "1       1.638821e+12           False  endsong_0.json  Android OS  \n",
       "2       1.606302e+12           False  endsong_0.json  Windows 10  \n",
       "3       1.652692e+12           False  endsong_0.json  Android OS  \n",
       "4       1.648326e+12           False  endsong_0.json  Android OS  "
      ]
     },
     "execution_count": 14,
     "metadata": {},
     "output_type": "execute_result"
    }
   ],
   "source": [
    "# Step 4 : Remove private information (username, user agent, device, IP address) \n",
    "spotify_data = pd.read_csv(\"spotify_data.csv\", sep = ';', index_col = 0)\n",
    "\n",
    "# Blur device information\n",
    "spotify_data[\"device\"] = spotify_data[\"platform\"].str[:10]\n",
    "\n",
    "# Delete columns that share too much information\n",
    "to_delete = ['username', 'ip_addr_decrypted', 'user_agent_decrypted', 'platform']\n",
    "spotify_data.drop(to_delete, axis=1, inplace=True)\n",
    "\n",
    "# End results\n",
    "spotify_data.head(5)"
   ]
  },
  {
   "cell_type": "code",
   "execution_count": null,
   "id": "c23f4d8a-25d3-482f-9af0-e60cfc33d9c4",
   "metadata": {},
   "outputs": [],
   "source": [
    "# Step 1 : Import the data\n",
    "    # A améliorer / solution plus élégante à mettre en place\n",
    "df0 = pd.read_json('C:/Users/margo/Documents/Documents/Formation/Github/Spotify/MyData/endsong_0.json')\n",
    "df1 = pd.read_json('C:/Users/margo/Documents/Documents/Formation/Github/Spotify/MyData/endsong_1.json')\n",
    "df2 = pd.read_json('C:/Users/margo/Documents/Documents/Formation/Github/Spotify/MyData/endsong_2.json')\n",
    "df3 = pd.read_json('C:/Users/margo/Documents/Documents/Formation/Github/Spotify/MyData/endsong_3.json')\n",
    "df4 = pd.read_json('C:/Users/margo/Documents/Documents/Formation/Github/Spotify/MyData/endsong_4.json')\n",
    "df5 = pd.read_json('C:/Users/margo/Documents/Documents/Formation/Github/Spotify/MyData/endsong_5.json')\n",
    "df6 = pd.read_json('C:/Users/margo/Documents/Documents/Formation/Github/Spotify/MyData/endsong_6.json')"
   ]
  },
  {
   "cell_type": "code",
   "execution_count": null,
   "id": "9b46c1e2-bd0b-4865-9729-698b2df1e01d",
   "metadata": {},
   "outputs": [],
   "source": [
    "# Step 2 : Remove private information (username, user agent, IP address)\n",
    "to_delete = ['username', 'ip_addr_decrypted', 'user_agent_decrypted']\n",
    "df0.drop(to_delete, axis=1, inplace=True)\n",
    "df1.drop(to_delete, axis=1, inplace=True)\n",
    "df2.drop(to_delete, axis=1, inplace=True)\n",
    "df3.drop(to_delete, axis=1, inplace=True)\n",
    "df4.drop(to_delete, axis=1, inplace=True)\n",
    "df5.drop(to_delete, axis=1, inplace=True)\n",
    "df6.drop(to_delete, axis=1, inplace=True)"
   ]
  },
  {
   "cell_type": "markdown",
   "id": "5926675d-04ca-4800-b80c-2534cc04915a",
   "metadata": {},
   "source": [
    "## 2. Set up the SQL connection"
   ]
  },
  {
   "cell_type": "code",
   "execution_count": null,
   "id": "6aeb9c60-811d-43af-a12a-5bc893aafc61",
   "metadata": {},
   "outputs": [],
   "source": [
    "# Create the SQLITE3 connection\n",
    "cnx = sqlite3.connect(':memory:')\n",
    "\n",
    "# Transform dfx dataframes to a dfx SQL tables\n",
    "df0.to_sql(name='df0', con=cnx)\n",
    "df1.to_sql(name='df1', con=cnx)\n",
    "df2.to_sql(name='df2', con=cnx)\n",
    "df3.to_sql(name='df3', con=cnx)\n",
    "df4.to_sql(name='df4', con=cnx)\n",
    "df5.to_sql(name='df5', con=cnx)\n",
    "df6.to_sql(name='df6', con=cnx)"
   ]
  },
  {
   "cell_type": "markdown",
   "id": "95a485cc-fff7-441f-82a0-18d842514df1",
   "metadata": {},
   "source": [
    "## 3. Glimpse of the data"
   ]
  },
  {
   "cell_type": "code",
   "execution_count": null,
   "id": "cdbcfe35-8db8-463a-a4d6-df39bee227e8",
   "metadata": {},
   "outputs": [],
   "source": [
    "# Print the 10 first rows to ensure everything is fine\n",
    "read_data = pd.read_sql('SELECT * FROM df0 LIMIT 10', cnx)\n",
    "print(read_data)"
   ]
  },
  {
   "cell_type": "markdown",
   "id": "4031b545-9de7-4f75-959b-4883307a30a7",
   "metadata": {},
   "source": [
    "## 4. Data transformation"
   ]
  },
  {
   "cell_type": "code",
   "execution_count": null,
   "id": "04cfc9c8-489d-43a4-a7b5-cf63a5e6a445",
   "metadata": {},
   "outputs": [],
   "source": [
    "# Union all -> 1 dataset only\n"
   ]
  },
  {
   "cell_type": "markdown",
   "id": "e06bc888-fe0d-4abc-8e6a-abcbc968f0f1",
   "metadata": {},
   "source": [
    "Opérations à faire : \n",
    "* Colonne source de données : df0, df1, etc\n",
    "* Joindre les données -> UNION\n",
    "* Transformer certaines variables : millisecondes en secondes et minutes\n",
    "* renommer variables aux noms à rallonge"
   ]
  },
  {
   "cell_type": "code",
   "execution_count": null,
   "id": "6208a45d-0e88-4157-b349-6543f75591fc",
   "metadata": {},
   "outputs": [],
   "source": [
    "read_data = pd.read_sql('select COUNT(*) AS nb_rows, MAX(ts) AS max_timestamp from df0', cnx)\n",
    "print(read_data)"
   ]
  },
  {
   "cell_type": "code",
   "execution_count": null,
   "id": "57e420bc-9d40-4c59-a3c7-67ef33d05bc0",
   "metadata": {},
   "outputs": [],
   "source": [
    "# Step 2 : SQL connection\n",
    "import sqlite3\n",
    "\n",
    "# Set up SQL connexion\n",
    "sql_connect = sqlite3.connect('spotify_data.db')\n",
    "\n",
    "# To execute some SQL command\n",
    "cursor = sql_connect.cursor()\n",
    "\n",
    "# Create database\n",
    "#cursor.execute('''CREATE TABLE spotify_data (\n",
    " #   ts timestamp,\n",
    "  #  username text)''') \n",
    "\n",
    "#cursor.execute(\"INSERT INTO spotify_data VALUES ('2022-07-17T06:07:42Z', 'v7x27nfjb2dri60b7jzl159rl')\")\n",
    "\n",
    "cursor.execute(\"SELECT * FROM spotify_data;\")\n",
    "print(cursor.fetchone())\n",
    "\n",
    "sql_connect.commit()\n",
    "\n",
    "sql_connect.close()"
   ]
  },
  {
   "cell_type": "code",
   "execution_count": null,
   "id": "628a13ba-b319-4bde-9bd5-4ca699040a2f",
   "metadata": {},
   "outputs": [],
   "source": [
    "query = \"SELECT * FROM df0;\"\n",
    "results = cursor.execute(query).fetchall()\n",
    "sql_connect.close()"
   ]
  },
  {
   "cell_type": "code",
   "execution_count": null,
   "id": "0f09cfbc-7c61-4aea-a7cb-ad7782748562",
   "metadata": {},
   "outputs": [],
   "source": [
    "\n",
    "from sqlalchemy import create_engine\n",
    "\n",
    "# Create database engine to manage connections\n",
    "engine = create_engine(\"sqlite:///data.db\")\n",
    "\n",
    "# Load entire weather table by table name\n",
    "weather = pd.read_sql(\"df0\", engine)"
   ]
  },
  {
   "cell_type": "code",
   "execution_count": null,
   "id": "bfcc5c51-f3fa-4686-8eb1-dc749076498d",
   "metadata": {},
   "outputs": [],
   "source": [
    "# \n",
    "df.shape\n",
    "#df.head(5)"
   ]
  },
  {
   "cell_type": "code",
   "execution_count": null,
   "id": "e9fa6673-a05f-4a75-8e93-6ba544f88ca6",
   "metadata": {},
   "outputs": [],
   "source": [
    "# Test 2 : Je récupère la liste des fichiers JSON dans mon dossier\n",
    "import os, json\n",
    "import pandas as pd\n",
    "\n",
    "path_to_json = 'C:/Users/margo/Documents/Documents/Formation/Github/Spotify/MyData/'\n",
    "json_files = [pos_json for pos_json in os.listdir(path_to_json) if pos_json.endswith('.json')]\n",
    "print(json_files) \n",
    "\n",
    "# Puis j'essaie d'importer chaque file une par une \n",
    "for file in json_files :\n",
    "    df = pd.read_json(path_to_json + file)\n",
    "    \n",
    "df"
   ]
  },
  {
   "cell_type": "code",
   "execution_count": null,
   "id": "335dcc71-b4dc-4fef-848a-7b25806968e0",
   "metadata": {},
   "outputs": [],
   "source": [
    "spotify_data = pd.DataFrame(columns=['ts', 'username', 'platform',\n",
    "                                    'ms_played', 'conn_country', 'user_agent_decrypted',\n",
    "                                     'master_metadata_track_name',\n",
    "                                     'master_metadata_album_artist_name',\n",
    "                                     'master_metadata_album_album_name',\n",
    "                                     'spotify_track_uri',\n",
    "                                     'episode_name',\n",
    "                                     'episode_show_name',\n",
    "                                     'spotify_episode_uri',\n",
    "                                     'reason_start',\n",
    "                                     'reason_end',\n",
    "                                     'shuffle', 'skipped', 'offline', 'offline_timestamp'\n",
    "                                    ])\n",
    "spotify_data.head(5)\n",
    "#print spotify_json['features'][0]['geometry']"
   ]
  },
  {
   "cell_type": "code",
   "execution_count": null,
   "id": "9462a4fc-efae-43f3-acde-31b395e94ff8",
   "metadata": {},
   "outputs": [],
   "source": [
    "# Essai pour importer tous les fichiers du dossier\n",
    "# Récupérer le \n",
    "path = 'C:/Users/margo/Documents/Documents/Formation/Github/Spotify/MyData'\n",
    "all_files = glob.glob(path + \"/*.json\")\n",
    "\n",
    "all_files"
   ]
  },
  {
   "cell_type": "code",
   "execution_count": null,
   "id": "b9c65af6-a125-4cbb-b24a-310ed69df7ef",
   "metadata": {},
   "outputs": [],
   "source": [
    "for file in all_files:\n",
    "    data = pd.read_json(file, lines=True)\n",
    "    temp = temp.concat(data, ignore_index = True)"
   ]
  },
  {
   "cell_type": "code",
   "execution_count": null,
   "id": "906b5edc-617f-4998-b24b-73dab04ac6a9",
   "metadata": {},
   "outputs": [],
   "source": [
    "temp.head(5)"
   ]
  },
  {
   "cell_type": "code",
   "execution_count": null,
   "id": "1ab505c0-52f9-4455-9236-2a1dcddaccfe",
   "metadata": {},
   "outputs": [],
   "source": [
    "temp = pd.DataFrame()\n",
    "\n",
    "path_to_json = 'C:/Users/margo/Documents/Documents/Formation/Github/Spotify/MyData/' \n",
    "\n",
    "json_pattern = os.path.join(path_to_json,'*.json')\n",
    "file_list = glob.glob(json_pattern)\n",
    "\n",
    "for file in file_list:\n",
    "    data = pd.read_json(file, lines=True)\n",
    "    temp = temp.append(data, ignore_index = True)"
   ]
  },
  {
   "cell_type": "code",
   "execution_count": null,
   "id": "899b34e3-d79d-40ee-be9d-a24fba637de5",
   "metadata": {},
   "outputs": [],
   "source": [
    "# Inspirations fichiers csv en source \n",
    "\n",
    "import pandas as pd\n",
    "import glob\n",
    "import os\n",
    "\n",
    "globbed_files = glob.glob(\"*.csv\") #creates a list of all csv files\n",
    "\n",
    "data = [] # pd.concat takes a list of dataframes as an agrument\n",
    "for csv in globbed_files:\n",
    "    frame = pd.read_csv(csv)\n",
    "    frame['filename'] = os.path.basename(csv)\n",
    "    data.append(frame)\n",
    "\n",
    "bigframe = pd.concat(data, ignore_index=True) #dont want pandas to try an align row indexes\n",
    "bigframe.to_csv(\"Pandas_output2.csv\")"
   ]
  },
  {
   "cell_type": "code",
   "execution_count": null,
   "id": "7cae718d-1329-437e-ab1c-332f00116c10",
   "metadata": {},
   "outputs": [],
   "source": []
  },
  {
   "cell_type": "code",
   "execution_count": null,
   "id": "a783ea3a-eed9-42e8-8b3a-692b5c73edc7",
   "metadata": {},
   "outputs": [],
   "source": [
    "spotify_data = pd.read_csv(\"spotify_data.csv\", sep = ';', index_col = 0)\n",
    "spotify_data.head(5) "
   ]
  },
  {
   "cell_type": "code",
   "execution_count": null,
   "id": "3f8e10ae-013a-4351-9d0e-6a0c7ccbc631",
   "metadata": {},
   "outputs": [],
   "source": [
    "dataframe = pd.DataFrame(data)\n",
    "dataframe.head(10)"
   ]
  }
 ],
 "metadata": {
  "kernelspec": {
   "display_name": "Python 3 (ipykernel)",
   "language": "python",
   "name": "python3"
  },
  "language_info": {
   "codemirror_mode": {
    "name": "ipython",
    "version": 3
   },
   "file_extension": ".py",
   "mimetype": "text/x-python",
   "name": "python",
   "nbconvert_exporter": "python",
   "pygments_lexer": "ipython3",
   "version": "3.9.13"
  }
 },
 "nbformat": 4,
 "nbformat_minor": 5
}
